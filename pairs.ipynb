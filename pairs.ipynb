{
 "cells": [
  {
   "cell_type": "code",
   "execution_count": 4,
   "metadata": {
    "collapsed": true
   },
   "outputs": [],
   "source": [
    "import numpy as np"
   ]
  },
  {
   "cell_type": "code",
   "execution_count": 103,
   "metadata": {},
   "outputs": [
    {
     "name": "stdout",
     "output_type": "stream",
     "text": [
      "[[ 0.  0.  0.  0.  0.  0.  0.  0.  0.  0.]\n",
      " [ 0.  0.  0.  0.  0.  0.  0.  0.  0.  0.]\n",
      " [ 0.  0.  0.  0.  1.  0.  0.  0.  0.  0.]\n",
      " [ 0.  0.  0.  0.  0.  1.  0.  0.  0.  0.]\n",
      " [ 0.  0.  0.  1.  1.  1.  0.  0.  0.  0.]\n",
      " [ 0.  0.  0.  0.  0.  0.  0.  0.  0.  0.]\n",
      " [ 0.  0.  0.  0.  0.  0.  0.  0.  0.  0.]\n",
      " [ 0.  0.  0.  0.  0.  0.  0.  0.  0.  0.]\n",
      " [ 0.  0.  0.  0.  0.  0.  0.  0.  0.  0.]\n",
      " [ 0.  0.  0.  0.  0.  0.  0.  0.  0.  0.]]\n",
      "\n",
      "\n",
      "[[ 0.  0.  0.  0.  0.  0.  0.  0.  0.  0.]\n",
      " [ 0.  0.  0.  0.  0.  0.  0.  0.  0.  0.]\n",
      " [ 0.  0.  0.  0.  0.  0.  0.  0.  0.  0.]\n",
      " [ 0.  0.  0.  1.  0.  1.  0.  0.  0.  0.]\n",
      " [ 0.  0.  0.  0.  1.  1.  0.  0.  0.  0.]\n",
      " [ 0.  0.  0.  0.  1.  0.  0.  0.  0.  0.]\n",
      " [ 0.  0.  0.  0.  0.  0.  0.  0.  0.  0.]\n",
      " [ 0.  0.  0.  0.  0.  0.  0.  0.  0.  0.]\n",
      " [ 0.  0.  0.  0.  0.  0.  0.  0.  0.  0.]\n",
      " [ 0.  0.  0.  0.  0.  0.  0.  0.  0.  0.]]\n",
      "\n",
      "\n",
      "[[ 0.  0.  0.  0.  0.  0.  0.  0.  0.  0.]\n",
      " [ 0.  0.  0.  0.  0.  0.  0.  0.  0.  0.]\n",
      " [ 0.  0.  0.  0.  0.  0.  0.  0.  0.  0.]\n",
      " [ 0.  0.  0.  0.  0.  1.  0.  0.  0.  0.]\n",
      " [ 0.  0.  0.  1.  0.  1.  0.  0.  0.  0.]\n",
      " [ 0.  0.  0.  0.  1.  1.  0.  0.  0.  0.]\n",
      " [ 0.  0.  0.  0.  0.  0.  0.  0.  0.  0.]\n",
      " [ 0.  0.  0.  0.  0.  0.  0.  0.  0.  0.]\n",
      " [ 0.  0.  0.  0.  0.  0.  0.  0.  0.  0.]\n",
      " [ 0.  0.  0.  0.  0.  0.  0.  0.  0.  0.]]\n",
      "\n",
      "\n"
     ]
    }
   ],
   "source": [
    "def life():\n",
    "    board = np.zeros((10,10))\n",
    "    board[2,4] = 1\n",
    "    board[3,5] = 1\n",
    "    board[4,3] = 1\n",
    "    board[4,4] = 1\n",
    "    board[4,5] = 1\n",
    "    width = board.shape[0]\n",
    "    height = board.shape[1]\n",
    "    boardcopy = np.zeros((10,10))\n",
    "    iterations = 3\n",
    "    for k in range(iterations):\n",
    "        print(board)\n",
    "        for i in range(width):\n",
    "            for j in range(height):\n",
    "                neighbors = 0\n",
    "                if i > 0:\n",
    "                     neighbors = neighbors + board[i-1,j]\n",
    "                if j > 0: \n",
    "                    neighbors = neighbors + board[i,j-1]     \n",
    "                if i < width-1:\n",
    "                    neighbors = neighbors + board[i+1,j]\n",
    "                if j < height-1:\n",
    "                    neighbors = neighbors + board[i,j+1]\n",
    "                if i < width-1 and j < height-1:\n",
    "                    neighbors = neighbors + board[i+1,j+1]\n",
    "                if i > 0 and j > 0:\n",
    "                    neighbors = neighbors + board[i-1,j-1]\n",
    "                if i > 0 and j < height - 1:\n",
    "                    neighbors = neighbors + board[i-1,j+1]\n",
    "                if i < width - 1 and j > 0:\n",
    "                    neighbors = neighbors + board[i+1,j-1]\n",
    "                        \n",
    "                if int(board[i,j]) == 1:\n",
    "                    if int(neighbors) <=1:\n",
    "                        boardcopy[i,j] = 0\n",
    "                    if int(neighbors) >=4:\n",
    "                        boardcopy[i,j] = 0\n",
    "                    if int(neighbors) == 2 or int(neighbors) == 3:\n",
    "                        boardcopy[i,j] = 1\n",
    "                if int(board[i,j]) == 0:\n",
    "                    if int(neighbors) == 3:                \n",
    "                        boardcopy[i,j] = 1\n",
    "\n",
    "\n",
    "        print(\"\\n\")\n",
    "        for i in range(width):\n",
    "            for j in range(height):\n",
    "                board[i,j] = boardcopy[i,j]\n",
    "\n",
    "life()"
   ]
  },
  {
   "cell_type": "code",
   "execution_count": null,
   "metadata": {},
   "outputs": [],
   "source": []
  },
  {
   "cell_type": "code",
   "execution_count": null,
   "metadata": {
    "collapsed": true
   },
   "outputs": [],
   "source": []
  }
 ],
 "metadata": {
  "kernelspec": {
   "display_name": "Python 3",
   "language": "python",
   "name": "python3"
  },
  "language_info": {
   "codemirror_mode": {
    "name": "ipython",
    "version": 3
   },
   "file_extension": ".py",
   "mimetype": "text/x-python",
   "name": "python",
   "nbconvert_exporter": "python",
   "pygments_lexer": "ipython3",
   "version": "3.6.0"
  }
 },
 "nbformat": 4,
 "nbformat_minor": 2
}
